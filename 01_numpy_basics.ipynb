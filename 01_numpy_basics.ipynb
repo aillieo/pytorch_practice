{
 "cells": [
  {
   "cell_type": "code",
   "execution_count": 8,
   "id": "ed59956d",
   "metadata": {
    "scrolled": false
   },
   "outputs": [
    {
     "name": "stdout",
     "output_type": "stream",
     "text": [
      "[ 0  1  2  3  4  5  6  7  8  9 10 11 12 13 14]\n",
      "[[ 0  1  2  3  4]\n",
      " [ 5  6  7  8  9]\n",
      " [10 11 12 13 14]]\n",
      "a.shape = (3, 5)\n",
      "a.ndim = 2\n",
      "a.dtype.name = int64\n",
      "a.itemsize = 8\n",
      "a.size = 15\n"
     ]
    }
   ],
   "source": [
    "import numpy as np\n",
    "\n",
    "a = np.arange(15)\n",
    "print(a)\n",
    "\n",
    "a = a.reshape(3, 5)\n",
    "print(a)\n",
    "\n",
    "print(f'a.shape = {a.shape}')\n",
    "print(f'a.size = {a.size}')\n",
    "print(f'a.ndim = {a.ndim}')\n",
    "print(f'a.dtype.name = {a.dtype.name}')\n",
    "print(f'a.itemsize = {a.itemsize}')"
   ]
  },
  {
   "cell_type": "code",
   "execution_count": null,
   "id": "e8d491b5",
   "metadata": {},
   "outputs": [],
   "source": []
  }
 ],
 "metadata": {
  "kernelspec": {
   "display_name": "Python 3 (ipykernel)",
   "language": "python",
   "name": "python3"
  },
  "language_info": {
   "codemirror_mode": {
    "name": "ipython",
    "version": 3
   },
   "file_extension": ".py",
   "mimetype": "text/x-python",
   "name": "python",
   "nbconvert_exporter": "python",
   "pygments_lexer": "ipython3",
   "version": "3.8.12"
  }
 },
 "nbformat": 4,
 "nbformat_minor": 5
}
